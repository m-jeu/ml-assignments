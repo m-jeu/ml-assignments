{
 "cells": [
  {
   "cell_type": "markdown",
   "source": [
    "As a kind of smoke test, I've been provided with some test cases to verify the functionality of different components of the neural network as they're being created. We'll instantiate the components in the required configuration for the tests, and then observe whether they perform as expected."
   ],
   "metadata": {
    "collapsed": false
   }
  },
  {
   "cell_type": "code",
   "execution_count": 81,
   "metadata": {
    "collapsed": true
   },
   "outputs": [],
   "source": [
    "import unittest\n",
    "import itertools\n",
    "from typing import Callable\n",
    "from inspect import signature\n",
    "\n",
    "import numpy as np\n",
    "import pandas as pd\n",
    "\n",
    "import ml"
   ]
  },
  {
   "cell_type": "markdown",
   "source": [
    "<h2>Perceptron</h2>\n",
    "\n",
    "First off, we require tests the implemented perceptron unit. The provided scenarios to verify compliance with the expected behaviour of perceptron are several logical gates, consisting of either one or a network of perceptrons. The following scenarios are expected:\n",
    "\n",
    "<ol>\n",
    "<li>An INVERT gate</li>\n",
    "<li>An AND gate</li>\n",
    "<li>An OR gate</li>\n",
    "<li>A NOR gate</li>\n",
    "<li>A non-specified \"more complex\" decision system with at least 3 inputs.</li>\n",
    "</ol>\n",
    "\n",
    "We'll first establish a framework that allows us to easily construct truth tables for boolean operations. Then we'll compare these with the results from our perceptrons to verify their validity.\n"
   ],
   "metadata": {
    "collapsed": false
   }
  },
  {
   "cell_type": "code",
   "execution_count": 82,
   "outputs": [],
   "source": [
    "def binary_input_space(length: int) -> pd.DataFrame:\n",
    "    return pd.DataFrame(list(itertools.product([0, 1], repeat=length))).rename(columns=lambda n: f\"Input {n}\")"
   ],
   "metadata": {
    "collapsed": false,
    "pycharm": {
     "name": "#%%\n"
    }
   }
  },
  {
   "cell_type": "code",
   "execution_count": 83,
   "outputs": [],
   "source": [
    "def apply_operation(input_space: pd.DataFrame,\n",
    "                    operation: Callable) -> pd.Series:\n",
    "    return input_space.apply(lambda row: operation(*row), axis=1)\n",
    "\n",
    "def apply_perceptron(input_space: pd.DataFrame,\n",
    "                     perceptron: ml.Perceptron):\n",
    "    return input_space.apply(lambda row: perceptron.activate(row), axis=1, raw=True)"
   ],
   "metadata": {
    "collapsed": false,
    "pycharm": {
     "name": "#%%\n"
    }
   }
  },
  {
   "cell_type": "code",
   "execution_count": 84,
   "outputs": [],
   "source": [
    "def verify_perceptron_operation_inputs(operation: Callable,\n",
    "                                       perceptron: ml.Perceptron) -> None:\n",
    "    if len(signature(operation).parameters) != perceptron.weights.size:\n",
    "        raise ValueError(f\"\"\"Operation amount of arguments do not match perceptron\n",
    "expected amount of inputs.\"\"\")"
   ],
   "metadata": {
    "collapsed": false,
    "pycharm": {
     "name": "#%%\n"
    }
   }
  },
  {
   "cell_type": "code",
   "execution_count": 85,
   "outputs": [],
   "source": [
    "def perceptron_truth_table(operation: Callable,\n",
    "                           perceptron: ml.Perceptron) -> pd.DataFrame:\n",
    "    verify_perceptron_operation_inputs(operation, perceptron)\n",
    "\n",
    "    input_space = binary_input_space(perceptron.weights.size)\n",
    "\n",
    "    true_result = apply_operation(input_space, operation)\n",
    "    perceptron_result = apply_perceptron(input_space, perceptron)\n",
    "\n",
    "    input_space[\"True Result\"] = true_result\n",
    "    input_space[\"Perceptron Result\"] = perceptron_result\n",
    "\n",
    "    return input_space"
   ],
   "metadata": {
    "collapsed": false,
    "pycharm": {
     "name": "#%%\n"
    }
   }
  },
  {
   "cell_type": "markdown",
   "source": [
    "\n",
    "<h4>1. INVERT gate</h4>\n",
    "\n",
    "The invert gate is simple, it takes one input, and has one output. It should always return the invert (0 -> 1 ∧ 1 -> 0). We can use the framework we established earlier to verify the correctness."
   ],
   "metadata": {
    "collapsed": false
   }
  },
  {
   "cell_type": "code",
   "execution_count": 86,
   "outputs": [],
   "source": [
    "invert_weights = np.array([-1])\n",
    "invert_bias = 0.5\n",
    "\n",
    "invert_gate = ml.Perceptron(invert_weights, invert_bias)"
   ],
   "metadata": {
    "collapsed": false,
    "pycharm": {
     "name": "#%%\n"
    }
   }
  },
  {
   "cell_type": "code",
   "execution_count": 87,
   "outputs": [
    {
     "data": {
      "text/plain": "   Input 0  True Result  Perceptron Result\n0        0            1                  1\n1        1            0                  0",
      "text/html": "<div>\n<style scoped>\n    .dataframe tbody tr th:only-of-type {\n        vertical-align: middle;\n    }\n\n    .dataframe tbody tr th {\n        vertical-align: top;\n    }\n\n    .dataframe thead th {\n        text-align: right;\n    }\n</style>\n<table border=\"1\" class=\"dataframe\">\n  <thead>\n    <tr style=\"text-align: right;\">\n      <th></th>\n      <th>Input 0</th>\n      <th>True Result</th>\n      <th>Perceptron Result</th>\n    </tr>\n  </thead>\n  <tbody>\n    <tr>\n      <th>0</th>\n      <td>0</td>\n      <td>1</td>\n      <td>1</td>\n    </tr>\n    <tr>\n      <th>1</th>\n      <td>1</td>\n      <td>0</td>\n      <td>0</td>\n    </tr>\n  </tbody>\n</table>\n</div>"
     },
     "execution_count": 87,
     "metadata": {},
     "output_type": "execute_result"
    }
   ],
   "source": [
    "invert_table = perceptron_truth_table(lambda a: int(not a),\n",
    "                                      invert_gate)\n",
    "\n",
    "invert_table"
   ],
   "metadata": {
    "collapsed": false,
    "pycharm": {
     "name": "#%%\n"
    }
   }
  },
  {
   "cell_type": "code",
   "execution_count": 88,
   "outputs": [
    {
     "data": {
      "text/plain": "True"
     },
     "execution_count": 88,
     "metadata": {},
     "output_type": "execute_result"
    }
   ],
   "source": [
    "(invert_table[\"True Result\"] == invert_table[\"Perceptron Result\"]).all()"
   ],
   "metadata": {
    "collapsed": false,
    "pycharm": {
     "name": "#%%\n"
    }
   }
  },
  {
   "cell_type": "markdown",
   "source": [
    "<h4>2. AND gate</h4>"
   ],
   "metadata": {
    "collapsed": false
   }
  },
  {
   "cell_type": "code",
   "execution_count": 89,
   "outputs": [],
   "source": [
    "and_weights = np.array([0.5, 0.5])\n",
    "and_bias = -1\n",
    "\n",
    "and_gate = ml.Perceptron(and_weights, and_bias)"
   ],
   "metadata": {
    "collapsed": false,
    "pycharm": {
     "name": "#%%\n"
    }
   }
  },
  {
   "cell_type": "code",
   "execution_count": 90,
   "outputs": [
    {
     "data": {
      "text/plain": "   Input 0  Input 1  True Result  Perceptron Result\n0        0        0            0                  0\n1        0        1            0                  0\n2        1        0            0                  0\n3        1        1            1                  1",
      "text/html": "<div>\n<style scoped>\n    .dataframe tbody tr th:only-of-type {\n        vertical-align: middle;\n    }\n\n    .dataframe tbody tr th {\n        vertical-align: top;\n    }\n\n    .dataframe thead th {\n        text-align: right;\n    }\n</style>\n<table border=\"1\" class=\"dataframe\">\n  <thead>\n    <tr style=\"text-align: right;\">\n      <th></th>\n      <th>Input 0</th>\n      <th>Input 1</th>\n      <th>True Result</th>\n      <th>Perceptron Result</th>\n    </tr>\n  </thead>\n  <tbody>\n    <tr>\n      <th>0</th>\n      <td>0</td>\n      <td>0</td>\n      <td>0</td>\n      <td>0</td>\n    </tr>\n    <tr>\n      <th>1</th>\n      <td>0</td>\n      <td>1</td>\n      <td>0</td>\n      <td>0</td>\n    </tr>\n    <tr>\n      <th>2</th>\n      <td>1</td>\n      <td>0</td>\n      <td>0</td>\n      <td>0</td>\n    </tr>\n    <tr>\n      <th>3</th>\n      <td>1</td>\n      <td>1</td>\n      <td>1</td>\n      <td>1</td>\n    </tr>\n  </tbody>\n</table>\n</div>"
     },
     "execution_count": 90,
     "metadata": {},
     "output_type": "execute_result"
    }
   ],
   "source": [
    "and_table = perceptron_truth_table(lambda a, b: int(a and b),\n",
    "                                   and_gate)\n",
    "\n",
    "and_table"
   ],
   "metadata": {
    "collapsed": false,
    "pycharm": {
     "name": "#%%\n"
    }
   }
  },
  {
   "cell_type": "code",
   "execution_count": 91,
   "outputs": [
    {
     "data": {
      "text/plain": "True"
     },
     "execution_count": 91,
     "metadata": {},
     "output_type": "execute_result"
    }
   ],
   "source": [
    "(and_table[\"True Result\"] == and_table[\"Perceptron Result\"]).all()"
   ],
   "metadata": {
    "collapsed": false,
    "pycharm": {
     "name": "#%%\n"
    }
   }
  },
  {
   "cell_type": "markdown",
   "source": [
    "<h4>3. OR gate</h4>"
   ],
   "metadata": {
    "collapsed": false
   }
  },
  {
   "cell_type": "code",
   "execution_count": 92,
   "outputs": [],
   "source": [
    "or_weights = np.array([1, 1])\n",
    "or_bias = -1\n",
    "\n",
    "or_gate = ml.Perceptron(or_weights, or_bias)"
   ],
   "metadata": {
    "collapsed": false,
    "pycharm": {
     "name": "#%%\n"
    }
   }
  },
  {
   "cell_type": "code",
   "execution_count": 93,
   "outputs": [
    {
     "data": {
      "text/plain": "   Input 0  Input 1  True Result  Perceptron Result\n0        0        0            0                  0\n1        0        1            1                  1\n2        1        0            1                  1\n3        1        1            1                  1",
      "text/html": "<div>\n<style scoped>\n    .dataframe tbody tr th:only-of-type {\n        vertical-align: middle;\n    }\n\n    .dataframe tbody tr th {\n        vertical-align: top;\n    }\n\n    .dataframe thead th {\n        text-align: right;\n    }\n</style>\n<table border=\"1\" class=\"dataframe\">\n  <thead>\n    <tr style=\"text-align: right;\">\n      <th></th>\n      <th>Input 0</th>\n      <th>Input 1</th>\n      <th>True Result</th>\n      <th>Perceptron Result</th>\n    </tr>\n  </thead>\n  <tbody>\n    <tr>\n      <th>0</th>\n      <td>0</td>\n      <td>0</td>\n      <td>0</td>\n      <td>0</td>\n    </tr>\n    <tr>\n      <th>1</th>\n      <td>0</td>\n      <td>1</td>\n      <td>1</td>\n      <td>1</td>\n    </tr>\n    <tr>\n      <th>2</th>\n      <td>1</td>\n      <td>0</td>\n      <td>1</td>\n      <td>1</td>\n    </tr>\n    <tr>\n      <th>3</th>\n      <td>1</td>\n      <td>1</td>\n      <td>1</td>\n      <td>1</td>\n    </tr>\n  </tbody>\n</table>\n</div>"
     },
     "execution_count": 93,
     "metadata": {},
     "output_type": "execute_result"
    }
   ],
   "source": [
    "or_table = perceptron_truth_table(lambda a, b: int(a or b),\n",
    "                                   or_gate)\n",
    "\n",
    "or_table"
   ],
   "metadata": {
    "collapsed": false,
    "pycharm": {
     "name": "#%%\n"
    }
   }
  },
  {
   "cell_type": "code",
   "execution_count": 94,
   "outputs": [
    {
     "data": {
      "text/plain": "True"
     },
     "execution_count": 94,
     "metadata": {},
     "output_type": "execute_result"
    }
   ],
   "source": [
    "(or_table[\"True Result\"] == or_table[\"Perceptron Result\"]).all()"
   ],
   "metadata": {
    "collapsed": false,
    "pycharm": {
     "name": "#%%\n"
    }
   }
  },
  {
   "cell_type": "markdown",
   "source": [
    "<h4>4. NOR gate</h4>"
   ],
   "metadata": {
    "collapsed": false
   }
  },
  {
   "cell_type": "code",
   "execution_count": 95,
   "outputs": [],
   "source": [
    "nor_weights = np.array([-1, -1, -1])\n",
    "nor_bias = 0\n",
    "\n",
    "nor_gate = ml.Perceptron(nor_weights, nor_bias)"
   ],
   "metadata": {
    "collapsed": false,
    "pycharm": {
     "name": "#%%\n"
    }
   }
  },
  {
   "cell_type": "code",
   "execution_count": 96,
   "outputs": [
    {
     "data": {
      "text/plain": "   Input 0  Input 1  Input 2  True Result  Perceptron Result\n0        0        0        0            1                  1\n1        0        0        1            0                  0\n2        0        1        0            0                  0\n3        0        1        1            0                  0\n4        1        0        0            0                  0\n5        1        0        1            0                  0\n6        1        1        0            0                  0\n7        1        1        1            0                  0",
      "text/html": "<div>\n<style scoped>\n    .dataframe tbody tr th:only-of-type {\n        vertical-align: middle;\n    }\n\n    .dataframe tbody tr th {\n        vertical-align: top;\n    }\n\n    .dataframe thead th {\n        text-align: right;\n    }\n</style>\n<table border=\"1\" class=\"dataframe\">\n  <thead>\n    <tr style=\"text-align: right;\">\n      <th></th>\n      <th>Input 0</th>\n      <th>Input 1</th>\n      <th>Input 2</th>\n      <th>True Result</th>\n      <th>Perceptron Result</th>\n    </tr>\n  </thead>\n  <tbody>\n    <tr>\n      <th>0</th>\n      <td>0</td>\n      <td>0</td>\n      <td>0</td>\n      <td>1</td>\n      <td>1</td>\n    </tr>\n    <tr>\n      <th>1</th>\n      <td>0</td>\n      <td>0</td>\n      <td>1</td>\n      <td>0</td>\n      <td>0</td>\n    </tr>\n    <tr>\n      <th>2</th>\n      <td>0</td>\n      <td>1</td>\n      <td>0</td>\n      <td>0</td>\n      <td>0</td>\n    </tr>\n    <tr>\n      <th>3</th>\n      <td>0</td>\n      <td>1</td>\n      <td>1</td>\n      <td>0</td>\n      <td>0</td>\n    </tr>\n    <tr>\n      <th>4</th>\n      <td>1</td>\n      <td>0</td>\n      <td>0</td>\n      <td>0</td>\n      <td>0</td>\n    </tr>\n    <tr>\n      <th>5</th>\n      <td>1</td>\n      <td>0</td>\n      <td>1</td>\n      <td>0</td>\n      <td>0</td>\n    </tr>\n    <tr>\n      <th>6</th>\n      <td>1</td>\n      <td>1</td>\n      <td>0</td>\n      <td>0</td>\n      <td>0</td>\n    </tr>\n    <tr>\n      <th>7</th>\n      <td>1</td>\n      <td>1</td>\n      <td>1</td>\n      <td>0</td>\n      <td>0</td>\n    </tr>\n  </tbody>\n</table>\n</div>"
     },
     "execution_count": 96,
     "metadata": {},
     "output_type": "execute_result"
    }
   ],
   "source": [
    "nor_table = perceptron_truth_table(lambda a, b, c: int((not a) and (not b) and (not c)),\n",
    "                                   nor_gate)\n",
    "\n",
    "nor_table"
   ],
   "metadata": {
    "collapsed": false,
    "pycharm": {
     "name": "#%%\n"
    }
   }
  },
  {
   "cell_type": "code",
   "execution_count": 97,
   "outputs": [
    {
     "data": {
      "text/plain": "True"
     },
     "execution_count": 97,
     "metadata": {},
     "output_type": "execute_result"
    }
   ],
   "source": [
    "(nor_table[\"True Result\"] == nor_table[\"Perceptron Result\"]).all()"
   ],
   "metadata": {
    "collapsed": false,
    "pycharm": {
     "name": "#%%\n"
    }
   }
  },
  {
   "cell_type": "markdown",
   "source": [
    "<h4>5. A non-specified \"more complex\" decision system with at least 3 inputs.</h4>\n",
    "\n",
    "For this, I'll be implementing something I'll call an <i>EVEN gate</i>"
   ],
   "metadata": {
    "collapsed": false
   }
  },
  {
   "cell_type": "markdown",
   "source": [],
   "metadata": {
    "collapsed": false
   }
  }
 ],
 "metadata": {
  "kernelspec": {
   "display_name": "Python 3",
   "language": "python",
   "name": "python3"
  },
  "language_info": {
   "codemirror_mode": {
    "name": "ipython",
    "version": 2
   },
   "file_extension": ".py",
   "mimetype": "text/x-python",
   "name": "python",
   "nbconvert_exporter": "python",
   "pygments_lexer": "ipython2",
   "version": "2.7.6"
  }
 },
 "nbformat": 4,
 "nbformat_minor": 0
}