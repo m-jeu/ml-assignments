{
 "cells": [
  {
   "cell_type": "markdown",
   "source": [
    "As a kind of test, I've been provided with some test cases to verify the functionality of different components of the perceptron network as they're being created. We'll instantiate the components in the required configuration for the tests, and then observe whether they perform as expected."
   ],
   "metadata": {
    "collapsed": false
   }
  },
  {
   "cell_type": "code",
   "execution_count": 117,
   "metadata": {
    "collapsed": true
   },
   "outputs": [],
   "source": [
    "import itertools\n",
    "from typing import Callable\n",
    "from inspect import signature\n",
    "\n",
    "import numpy as np\n",
    "import pandas as pd\n",
    "\n",
    "import ml"
   ]
  },
  {
   "cell_type": "markdown",
   "source": [
    "<h2>Perceptron</h2>\n",
    "\n",
    "First off, we require tests the implemented perceptron unit. The provided scenarios to verify compliance with the expected behaviour of perceptron are several logical gates, consisting of either one or a network of perceptrons. The following scenarios are expected:\n",
    "\n",
    "<ol>\n",
    "<li>An INVERT gate</li>\n",
    "<li>An AND gate</li>\n",
    "<li>An OR gate</li>\n",
    "<li>A NOR gate</li>\n",
    "<li>A non-specified \"more complex\" decision system with at least 3 inputs.</li>\n",
    "</ol>\n",
    "\n",
    "We'll first establish a framework that allows us to easily construct truth tables for boolean operations. Then we'll compare these with the results from our perceptrons and perceptron-networks to verify their validity.\n"
   ],
   "metadata": {
    "collapsed": false
   }
  },
  {
   "cell_type": "code",
   "execution_count": 118,
   "outputs": [],
   "source": [
    "def binary_input_space(length: int) -> pd.DataFrame:\n",
    "    \"\"\"Compute all possible binary input combinations with a certain length.\n",
    "\n",
    "    Args:\n",
    "        length: length of the combinations.\n",
    "\n",
    "    Returns:\n",
    "        DataFrame with all possible combinations of 0s and 1s within specified length.\"\"\"\n",
    "    return pd.DataFrame(list(itertools.product([0, 1], repeat=length))).rename(columns=lambda n: f\"Input {n}\")"
   ],
   "metadata": {
    "collapsed": false,
    "pycharm": {
     "name": "#%%\n"
    }
   }
  },
  {
   "cell_type": "code",
   "execution_count": 119,
   "outputs": [],
   "source": [
    "def apply_operation(input_space: pd.DataFrame,\n",
    "                    operation: Callable) -> pd.Series:\n",
    "    \"\"\"Apply a boolean operation to an input space as created by binary_input_space.\n",
    "\n",
    "    Args:\n",
    "        input_space: inputs to apply operation on.\n",
    "        operation: boolean operation to apply.\n",
    "\n",
    "    Returns:\n",
    "        Series object with indexes corresponding to original input_space, with result of all boolean operations.\"\"\"\n",
    "    return input_space.apply(lambda row: operation(*row), axis=1)\n",
    "\n",
    "def apply_perceptron(input_space: pd.DataFrame,\n",
    "                     p_s: ml.InOutPutNetworkI):\n",
    "    \"\"\"Apply a Perceptron, PerceptronLayer or PerceptronNetwork to an input space as created by binary_input_space.\n",
    "\n",
    "    Args:\n",
    "        input_space: inputs to apply operation on.\n",
    "        p_s: Perceptron, PerceptronLayer or PerceptronNetwork to feed input into.\n",
    "\n",
    "    Returns:\n",
    "        Series object with indexes corresponding to original input_space, with result of all inputs applied to p_s.\n",
    "        If p_s returns multiple outputs, they are stored in tuple.\"\"\"\n",
    "    result = input_space.apply(lambda row: p_s.feed_forward(row), axis=1)\n",
    "    if result.dtype == np.ndarray and result.iloc[0].size > 1:  # If individual results are numpy arrays that contain more then 1 element, cast them to tuples to allow for comparisons.\n",
    "        result = result.apply(tuple)\n",
    "    return result"
   ],
   "metadata": {
    "collapsed": false,
    "pycharm": {
     "name": "#%%\n"
    }
   }
  },
  {
   "cell_type": "code",
   "execution_count": 120,
   "outputs": [],
   "source": [
    "def verify_perceptron_operation_inputs(operation: Callable,\n",
    "                                       p_s: ml.InOutPutNetworkI) -> None:\n",
    "    \"\"\"Verify that a boolean operation and a Perceptron, PerceptronLayer or PerceptronNetwork expect the same number of inputs.\n",
    "\n",
    "    Args:\n",
    "        operation: boolean operation.\n",
    "        p_s: Perceptron, PerceptronLayer or PerceptronNetwork.\n",
    "\n",
    "    Raises:\n",
    "        ValueError: if operation and p_s do not expect same number of inputs.\"\"\"\n",
    "    if len(signature(operation).parameters) != p_s.expected_number_of_inputs():\n",
    "        raise ValueError(f\"\"\"Operation amount of arguments do not match perceptron\n",
    "expected amount of inputs.\"\"\")"
   ],
   "metadata": {
    "collapsed": false,
    "pycharm": {
     "name": "#%%\n"
    }
   }
  },
  {
   "cell_type": "code",
   "execution_count": 121,
   "outputs": [],
   "source": [
    "def perceptron_truth_table(operation: Callable,\n",
    "                           p_s: ml.InOutPutNetworkI) -> pd.DataFrame:\n",
    "    \"\"\"Construct a truth table which contains both the result for a boolean operation, and a Perceptron/PerceptronLayer/PerceptronNetwork,\n",
    "    for all possible boolean inputs.\n",
    "\n",
    "    Args:\n",
    "        operation: boolean operation. Should return results as integers, in tuple if multiple result.\n",
    "        p_s: Perceptron, PerceptronLayer or PerceptronNetwork.\n",
    "\n",
    "    Returns:\n",
    "        DataFrame with inputs, operation result named \"Operation Result\", p_s result named \"Perceptron Result\".\n",
    "\n",
    "    Raises:\n",
    "        ValueError: if operation and p_s do not expect same number of inputs.\"\"\"\n",
    "\n",
    "    verify_perceptron_operation_inputs(operation, p_s)\n",
    "\n",
    "    input_space = binary_input_space(p_s.expected_number_of_inputs())\n",
    "\n",
    "    true_result = apply_operation(input_space, operation)\n",
    "    perceptron_result = apply_perceptron(input_space, p_s)\n",
    "\n",
    "    input_space[\"Operation Result\"] = true_result\n",
    "    input_space[\"Perceptron Result\"] = perceptron_result\n",
    "\n",
    "    return input_space"
   ],
   "metadata": {
    "collapsed": false,
    "pycharm": {
     "name": "#%%\n"
    }
   }
  },
  {
   "cell_type": "markdown",
   "source": [
    "The first 4 logical gates speak for themselves, and can be tested easily using the framework we established earlier without much explanation.\n",
    "\n",
    "<h4>1. INVERT gate</h4>"
   ],
   "metadata": {
    "collapsed": false
   }
  },
  {
   "cell_type": "code",
   "execution_count": 122,
   "outputs": [],
   "source": [
    "invert_weights = np.array([-1])\n",
    "invert_bias = 0.5\n",
    "\n",
    "invert_gate = ml.Perceptron(invert_weights, invert_bias)"
   ],
   "metadata": {
    "collapsed": false,
    "pycharm": {
     "name": "#%%\n"
    }
   }
  },
  {
   "cell_type": "code",
   "execution_count": 123,
   "outputs": [
    {
     "data": {
      "text/plain": "   Input 0  Operation Result  Perceptron Result\n0        0                 1                  1\n1        1                 0                  0",
      "text/html": "<div>\n<style scoped>\n    .dataframe tbody tr th:only-of-type {\n        vertical-align: middle;\n    }\n\n    .dataframe tbody tr th {\n        vertical-align: top;\n    }\n\n    .dataframe thead th {\n        text-align: right;\n    }\n</style>\n<table border=\"1\" class=\"dataframe\">\n  <thead>\n    <tr style=\"text-align: right;\">\n      <th></th>\n      <th>Input 0</th>\n      <th>Operation Result</th>\n      <th>Perceptron Result</th>\n    </tr>\n  </thead>\n  <tbody>\n    <tr>\n      <th>0</th>\n      <td>0</td>\n      <td>1</td>\n      <td>1</td>\n    </tr>\n    <tr>\n      <th>1</th>\n      <td>1</td>\n      <td>0</td>\n      <td>0</td>\n    </tr>\n  </tbody>\n</table>\n</div>"
     },
     "execution_count": 123,
     "metadata": {},
     "output_type": "execute_result"
    }
   ],
   "source": [
    "invert_table = perceptron_truth_table(lambda a: int(not a),\n",
    "                                      invert_gate)\n",
    "\n",
    "invert_table"
   ],
   "metadata": {
    "collapsed": false,
    "pycharm": {
     "name": "#%%\n"
    }
   }
  },
  {
   "cell_type": "code",
   "execution_count": 124,
   "outputs": [
    {
     "data": {
      "text/plain": "True"
     },
     "execution_count": 124,
     "metadata": {},
     "output_type": "execute_result"
    }
   ],
   "source": [
    "(invert_table[\"Operation Result\"] == invert_table[\"Perceptron Result\"]).all()"
   ],
   "metadata": {
    "collapsed": false,
    "pycharm": {
     "name": "#%%\n"
    }
   }
  },
  {
   "cell_type": "markdown",
   "source": [
    "The perceptron produces the expected output.\n",
    "\n",
    "<h4>2. AND gate</h4>"
   ],
   "metadata": {
    "collapsed": false
   }
  },
  {
   "cell_type": "code",
   "execution_count": 125,
   "outputs": [],
   "source": [
    "and_weights = np.array([0.5, 0.5])\n",
    "and_bias = -1\n",
    "\n",
    "and_gate = ml.Perceptron(and_weights, and_bias)"
   ],
   "metadata": {
    "collapsed": false,
    "pycharm": {
     "name": "#%%\n"
    }
   }
  },
  {
   "cell_type": "code",
   "execution_count": 126,
   "outputs": [
    {
     "data": {
      "text/plain": "   Input 0  Input 1  Operation Result  Perceptron Result\n0        0        0                 0                  0\n1        0        1                 0                  0\n2        1        0                 0                  0\n3        1        1                 1                  1",
      "text/html": "<div>\n<style scoped>\n    .dataframe tbody tr th:only-of-type {\n        vertical-align: middle;\n    }\n\n    .dataframe tbody tr th {\n        vertical-align: top;\n    }\n\n    .dataframe thead th {\n        text-align: right;\n    }\n</style>\n<table border=\"1\" class=\"dataframe\">\n  <thead>\n    <tr style=\"text-align: right;\">\n      <th></th>\n      <th>Input 0</th>\n      <th>Input 1</th>\n      <th>Operation Result</th>\n      <th>Perceptron Result</th>\n    </tr>\n  </thead>\n  <tbody>\n    <tr>\n      <th>0</th>\n      <td>0</td>\n      <td>0</td>\n      <td>0</td>\n      <td>0</td>\n    </tr>\n    <tr>\n      <th>1</th>\n      <td>0</td>\n      <td>1</td>\n      <td>0</td>\n      <td>0</td>\n    </tr>\n    <tr>\n      <th>2</th>\n      <td>1</td>\n      <td>0</td>\n      <td>0</td>\n      <td>0</td>\n    </tr>\n    <tr>\n      <th>3</th>\n      <td>1</td>\n      <td>1</td>\n      <td>1</td>\n      <td>1</td>\n    </tr>\n  </tbody>\n</table>\n</div>"
     },
     "execution_count": 126,
     "metadata": {},
     "output_type": "execute_result"
    }
   ],
   "source": [
    "and_table = perceptron_truth_table(lambda a, b: int(a and b),\n",
    "                                   and_gate)\n",
    "\n",
    "and_table"
   ],
   "metadata": {
    "collapsed": false,
    "pycharm": {
     "name": "#%%\n"
    }
   }
  },
  {
   "cell_type": "code",
   "execution_count": 127,
   "outputs": [
    {
     "data": {
      "text/plain": "True"
     },
     "execution_count": 127,
     "metadata": {},
     "output_type": "execute_result"
    }
   ],
   "source": [
    "(and_table[\"Operation Result\"] == and_table[\"Perceptron Result\"]).all()"
   ],
   "metadata": {
    "collapsed": false,
    "pycharm": {
     "name": "#%%\n"
    }
   }
  },
  {
   "cell_type": "markdown",
   "source": [
    "The perceptron produces the expected output.\n",
    "\n",
    "<h4>3. OR gate</h4>"
   ],
   "metadata": {
    "collapsed": false
   }
  },
  {
   "cell_type": "code",
   "execution_count": 128,
   "outputs": [],
   "source": [
    "or_weights = np.array([1, 1])\n",
    "or_bias = -1\n",
    "\n",
    "or_gate = ml.Perceptron(or_weights, or_bias)"
   ],
   "metadata": {
    "collapsed": false,
    "pycharm": {
     "name": "#%%\n"
    }
   }
  },
  {
   "cell_type": "code",
   "execution_count": 129,
   "outputs": [
    {
     "data": {
      "text/plain": "   Input 0  Input 1  Operation Result  Perceptron Result\n0        0        0                 0                  0\n1        0        1                 1                  1\n2        1        0                 1                  1\n3        1        1                 1                  1",
      "text/html": "<div>\n<style scoped>\n    .dataframe tbody tr th:only-of-type {\n        vertical-align: middle;\n    }\n\n    .dataframe tbody tr th {\n        vertical-align: top;\n    }\n\n    .dataframe thead th {\n        text-align: right;\n    }\n</style>\n<table border=\"1\" class=\"dataframe\">\n  <thead>\n    <tr style=\"text-align: right;\">\n      <th></th>\n      <th>Input 0</th>\n      <th>Input 1</th>\n      <th>Operation Result</th>\n      <th>Perceptron Result</th>\n    </tr>\n  </thead>\n  <tbody>\n    <tr>\n      <th>0</th>\n      <td>0</td>\n      <td>0</td>\n      <td>0</td>\n      <td>0</td>\n    </tr>\n    <tr>\n      <th>1</th>\n      <td>0</td>\n      <td>1</td>\n      <td>1</td>\n      <td>1</td>\n    </tr>\n    <tr>\n      <th>2</th>\n      <td>1</td>\n      <td>0</td>\n      <td>1</td>\n      <td>1</td>\n    </tr>\n    <tr>\n      <th>3</th>\n      <td>1</td>\n      <td>1</td>\n      <td>1</td>\n      <td>1</td>\n    </tr>\n  </tbody>\n</table>\n</div>"
     },
     "execution_count": 129,
     "metadata": {},
     "output_type": "execute_result"
    }
   ],
   "source": [
    "or_table = perceptron_truth_table(lambda a, b: int(a or b),\n",
    "                                   or_gate)\n",
    "\n",
    "or_table"
   ],
   "metadata": {
    "collapsed": false,
    "pycharm": {
     "name": "#%%\n"
    }
   }
  },
  {
   "cell_type": "code",
   "execution_count": 130,
   "outputs": [
    {
     "data": {
      "text/plain": "True"
     },
     "execution_count": 130,
     "metadata": {},
     "output_type": "execute_result"
    }
   ],
   "source": [
    "(or_table[\"Operation Result\"] == or_table[\"Perceptron Result\"]).all()"
   ],
   "metadata": {
    "collapsed": false,
    "pycharm": {
     "name": "#%%\n"
    }
   }
  },
  {
   "cell_type": "markdown",
   "source": [
    "The perceptron produces the expected output.\n",
    "\n",
    "<h4>4. NOR gate</h4>"
   ],
   "metadata": {
    "collapsed": false
   }
  },
  {
   "cell_type": "code",
   "execution_count": 131,
   "outputs": [],
   "source": [
    "nor_weights = np.array([-1, -1, -1])\n",
    "nor_bias = 0\n",
    "\n",
    "nor_gate = ml.Perceptron(nor_weights, nor_bias)"
   ],
   "metadata": {
    "collapsed": false,
    "pycharm": {
     "name": "#%%\n"
    }
   }
  },
  {
   "cell_type": "code",
   "execution_count": 132,
   "outputs": [
    {
     "data": {
      "text/plain": "   Input 0  Input 1  Input 2  Operation Result  Perceptron Result\n0        0        0        0                 1                  1\n1        0        0        1                 0                  0\n2        0        1        0                 0                  0\n3        0        1        1                 0                  0\n4        1        0        0                 0                  0\n5        1        0        1                 0                  0\n6        1        1        0                 0                  0\n7        1        1        1                 0                  0",
      "text/html": "<div>\n<style scoped>\n    .dataframe tbody tr th:only-of-type {\n        vertical-align: middle;\n    }\n\n    .dataframe tbody tr th {\n        vertical-align: top;\n    }\n\n    .dataframe thead th {\n        text-align: right;\n    }\n</style>\n<table border=\"1\" class=\"dataframe\">\n  <thead>\n    <tr style=\"text-align: right;\">\n      <th></th>\n      <th>Input 0</th>\n      <th>Input 1</th>\n      <th>Input 2</th>\n      <th>Operation Result</th>\n      <th>Perceptron Result</th>\n    </tr>\n  </thead>\n  <tbody>\n    <tr>\n      <th>0</th>\n      <td>0</td>\n      <td>0</td>\n      <td>0</td>\n      <td>1</td>\n      <td>1</td>\n    </tr>\n    <tr>\n      <th>1</th>\n      <td>0</td>\n      <td>0</td>\n      <td>1</td>\n      <td>0</td>\n      <td>0</td>\n    </tr>\n    <tr>\n      <th>2</th>\n      <td>0</td>\n      <td>1</td>\n      <td>0</td>\n      <td>0</td>\n      <td>0</td>\n    </tr>\n    <tr>\n      <th>3</th>\n      <td>0</td>\n      <td>1</td>\n      <td>1</td>\n      <td>0</td>\n      <td>0</td>\n    </tr>\n    <tr>\n      <th>4</th>\n      <td>1</td>\n      <td>0</td>\n      <td>0</td>\n      <td>0</td>\n      <td>0</td>\n    </tr>\n    <tr>\n      <th>5</th>\n      <td>1</td>\n      <td>0</td>\n      <td>1</td>\n      <td>0</td>\n      <td>0</td>\n    </tr>\n    <tr>\n      <th>6</th>\n      <td>1</td>\n      <td>1</td>\n      <td>0</td>\n      <td>0</td>\n      <td>0</td>\n    </tr>\n    <tr>\n      <th>7</th>\n      <td>1</td>\n      <td>1</td>\n      <td>1</td>\n      <td>0</td>\n      <td>0</td>\n    </tr>\n  </tbody>\n</table>\n</div>"
     },
     "execution_count": 132,
     "metadata": {},
     "output_type": "execute_result"
    }
   ],
   "source": [
    "nor_table = perceptron_truth_table(lambda a, b, c: int((not a) and (not b) and (not c)),\n",
    "                                   nor_gate)\n",
    "\n",
    "nor_table"
   ],
   "metadata": {
    "collapsed": false,
    "pycharm": {
     "name": "#%%\n"
    }
   }
  },
  {
   "cell_type": "code",
   "execution_count": 133,
   "outputs": [
    {
     "data": {
      "text/plain": "True"
     },
     "execution_count": 133,
     "metadata": {},
     "output_type": "execute_result"
    }
   ],
   "source": [
    "(nor_table[\"Operation Result\"] == nor_table[\"Perceptron Result\"]).all()"
   ],
   "metadata": {
    "collapsed": false,
    "pycharm": {
     "name": "#%%\n"
    }
   }
  },
  {
   "cell_type": "markdown",
   "source": [
    "The perceptron produces the expected output.\n",
    "\n",
    "<h4>5. A non-specified \"more complex\" decision system with at least 3 inputs.</h4>\n",
    "\n",
    "For this, I'll be implementing something I'll call an <i>NOTSTEVE gate</i>. It has 3 binary inputs, representing your 3 cousins: Adam(0), John(1) and Steve(2). You are the type of person that enjoys going to any family gathering, regardless of which of your cousins is there, because the food is wonderful. But right now, you owe Steve some money, and would not like to be at the next family gathering if he's there. Luckily, your cousins Adam and John owe him more money, so you would like to go if they come too, because that would distract Steve enough for you to enjoy your dinner in relative peace. In summary that means: <b>the perceptron should output 0 if input 2 = 1, unless inputs 0 & 1 are also 1. In any other case, it should output 1</b>. For validation purposes, we can summarize this in a boolean operation like before:"
   ],
   "metadata": {
    "collapsed": false
   }
  },
  {
   "cell_type": "code",
   "execution_count": 134,
   "outputs": [],
   "source": [
    "def notsteve_operation(adam: bool, john: bool, steve: bool) -> bool:\n",
    "    # FIXME(m-jeu): Steve could be removed from 2nd boolean expression because of short-circuited or?\n",
    "    return 1 if (not steve) or (adam and john and steve) else 0\n"
   ],
   "metadata": {
    "collapsed": false,
    "pycharm": {
     "name": "#%%\n"
    }
   }
  },
  {
   "cell_type": "markdown",
   "source": [
    "Then we can also instantiate a perceptron with the required weights to be functionally identical to the notsteve-gate:"
   ],
   "metadata": {
    "collapsed": false
   }
  },
  {
   "cell_type": "code",
   "execution_count": 135,
   "outputs": [],
   "source": [
    "notsteve_weights = np.array([0.4, 0.4, -1])\n",
    "notsteve_bias = 0.5\n",
    "\n",
    "notsteve_gate = ml.Perceptron(notsteve_weights, notsteve_bias)"
   ],
   "metadata": {
    "collapsed": false,
    "pycharm": {
     "name": "#%%\n"
    }
   }
  },
  {
   "cell_type": "code",
   "execution_count": 136,
   "outputs": [
    {
     "data": {
      "text/plain": "   Input 0  Input 1  Input 2  Operation Result  Perceptron Result\n0        0        0        0                 1                  1\n1        0        0        1                 0                  0\n2        0        1        0                 1                  1\n3        0        1        1                 0                  0\n4        1        0        0                 1                  1\n5        1        0        1                 0                  0\n6        1        1        0                 1                  1\n7        1        1        1                 1                  1",
      "text/html": "<div>\n<style scoped>\n    .dataframe tbody tr th:only-of-type {\n        vertical-align: middle;\n    }\n\n    .dataframe tbody tr th {\n        vertical-align: top;\n    }\n\n    .dataframe thead th {\n        text-align: right;\n    }\n</style>\n<table border=\"1\" class=\"dataframe\">\n  <thead>\n    <tr style=\"text-align: right;\">\n      <th></th>\n      <th>Input 0</th>\n      <th>Input 1</th>\n      <th>Input 2</th>\n      <th>Operation Result</th>\n      <th>Perceptron Result</th>\n    </tr>\n  </thead>\n  <tbody>\n    <tr>\n      <th>0</th>\n      <td>0</td>\n      <td>0</td>\n      <td>0</td>\n      <td>1</td>\n      <td>1</td>\n    </tr>\n    <tr>\n      <th>1</th>\n      <td>0</td>\n      <td>0</td>\n      <td>1</td>\n      <td>0</td>\n      <td>0</td>\n    </tr>\n    <tr>\n      <th>2</th>\n      <td>0</td>\n      <td>1</td>\n      <td>0</td>\n      <td>1</td>\n      <td>1</td>\n    </tr>\n    <tr>\n      <th>3</th>\n      <td>0</td>\n      <td>1</td>\n      <td>1</td>\n      <td>0</td>\n      <td>0</td>\n    </tr>\n    <tr>\n      <th>4</th>\n      <td>1</td>\n      <td>0</td>\n      <td>0</td>\n      <td>1</td>\n      <td>1</td>\n    </tr>\n    <tr>\n      <th>5</th>\n      <td>1</td>\n      <td>0</td>\n      <td>1</td>\n      <td>0</td>\n      <td>0</td>\n    </tr>\n    <tr>\n      <th>6</th>\n      <td>1</td>\n      <td>1</td>\n      <td>0</td>\n      <td>1</td>\n      <td>1</td>\n    </tr>\n    <tr>\n      <th>7</th>\n      <td>1</td>\n      <td>1</td>\n      <td>1</td>\n      <td>1</td>\n      <td>1</td>\n    </tr>\n  </tbody>\n</table>\n</div>"
     },
     "execution_count": 136,
     "metadata": {},
     "output_type": "execute_result"
    }
   ],
   "source": [
    "notsteve_table = perceptron_truth_table(notsteve_operation,\n",
    "                                        notsteve_gate)\n",
    "\n",
    "notsteve_table"
   ],
   "metadata": {
    "collapsed": false,
    "pycharm": {
     "name": "#%%\n"
    }
   }
  },
  {
   "cell_type": "code",
   "execution_count": 137,
   "outputs": [
    {
     "data": {
      "text/plain": "True"
     },
     "execution_count": 137,
     "metadata": {},
     "output_type": "execute_result"
    }
   ],
   "source": [
    "(notsteve_table[\"Operation Result\"] == notsteve_table[\"Perceptron Result\"]).all()"
   ],
   "metadata": {
    "collapsed": false,
    "pycharm": {
     "name": "#%%\n"
    }
   }
  },
  {
   "cell_type": "markdown",
   "source": [
    "The perceptron produces the expected output.\n",
    "\n",
    "<h2>Perceptron network</h2>\n",
    "\n",
    "Secondly, we're required to test the implementation of the implementation of the Perceptron network (and indirectly, the Perceptron layer). The perceptron layer combines one or more perceptrons, to form a layer capable of applying input to all perceptrons contained within it, and creating a new output from this. The perceptron network combines one or more of these layers into a feedforward-network.\n",
    "\n",
    "The implementation tests consist of implementing:\n",
    "\n",
    "<ol>\n",
    "<li>A XOR-gate</li>\n",
    "<li>A half-adder</li>\n",
    "</ol>\n",
    "\n",
    "<h4>XOR Gate</h4>\n",
    "\n",
    "XOR-gates cannot be implemented with a single Perceptron, but rather with at least 3. We can use 1 layer consisting of a NAND-gate and an OR gate, and then combining these in a second layer with an AND gate.\n",
    "\n",
    "We already have an AND-gate, and an OR-gate. Therefore, we only need to create a NAND-gate."
   ],
   "metadata": {
    "collapsed": false
   }
  },
  {
   "cell_type": "code",
   "execution_count": 138,
   "outputs": [
    {
     "data": {
      "text/plain": "Perceptron: b: 1 )"
     },
     "execution_count": 138,
     "metadata": {},
     "output_type": "execute_result"
    }
   ],
   "source": [
    "nand_weights = np.array([-0.9, -0.9])\n",
    "nand_bias = 1\n",
    "nand_gate = ml.Perceptron(nand_weights, nand_bias)\n",
    "nand_gate"
   ],
   "metadata": {
    "collapsed": false,
    "pycharm": {
     "name": "#%%\n"
    }
   }
  },
  {
   "cell_type": "code",
   "execution_count": 139,
   "outputs": [],
   "source": [
    "xor_layer_one = ml.PerceptronLayer(np.array([nand_gate, or_gate]))\n",
    "xor_layer_two = ml.PerceptronLayer(np.array([and_gate]))\n",
    "xor_network = ml.PerceptronNetwork(np.array([xor_layer_one, xor_layer_two]))\n"
   ],
   "metadata": {
    "collapsed": false,
    "pycharm": {
     "name": "#%%\n"
    }
   }
  },
  {
   "cell_type": "code",
   "execution_count": 140,
   "outputs": [
    {
     "data": {
      "text/plain": "   Input 0  Input 1  Operation Result Perceptron Result\n0        0        0                 0               [0]\n1        0        1                 1               [1]\n2        1        0                 1               [1]\n3        1        1                 0               [0]",
      "text/html": "<div>\n<style scoped>\n    .dataframe tbody tr th:only-of-type {\n        vertical-align: middle;\n    }\n\n    .dataframe tbody tr th {\n        vertical-align: top;\n    }\n\n    .dataframe thead th {\n        text-align: right;\n    }\n</style>\n<table border=\"1\" class=\"dataframe\">\n  <thead>\n    <tr style=\"text-align: right;\">\n      <th></th>\n      <th>Input 0</th>\n      <th>Input 1</th>\n      <th>Operation Result</th>\n      <th>Perceptron Result</th>\n    </tr>\n  </thead>\n  <tbody>\n    <tr>\n      <th>0</th>\n      <td>0</td>\n      <td>0</td>\n      <td>0</td>\n      <td>[0]</td>\n    </tr>\n    <tr>\n      <th>1</th>\n      <td>0</td>\n      <td>1</td>\n      <td>1</td>\n      <td>[1]</td>\n    </tr>\n    <tr>\n      <th>2</th>\n      <td>1</td>\n      <td>0</td>\n      <td>1</td>\n      <td>[1]</td>\n    </tr>\n    <tr>\n      <th>3</th>\n      <td>1</td>\n      <td>1</td>\n      <td>0</td>\n      <td>[0]</td>\n    </tr>\n  </tbody>\n</table>\n</div>"
     },
     "execution_count": 140,
     "metadata": {},
     "output_type": "execute_result"
    }
   ],
   "source": [
    "xor_table = perceptron_truth_table(lambda a, b: int(a ^ b),\n",
    "                                   xor_network)\n",
    "\n",
    "xor_table"
   ],
   "metadata": {
    "collapsed": false,
    "pycharm": {
     "name": "#%%\n"
    }
   }
  },
  {
   "cell_type": "code",
   "execution_count": 141,
   "outputs": [
    {
     "data": {
      "text/plain": "True"
     },
     "execution_count": 141,
     "metadata": {},
     "output_type": "execute_result"
    }
   ],
   "source": [
    "(xor_table[\"Operation Result\"] == xor_table[\"Perceptron Result\"]).all()"
   ],
   "metadata": {
    "collapsed": false,
    "pycharm": {
     "name": "#%%\n"
    }
   }
  },
  {
   "cell_type": "markdown",
   "source": [
    "The perceptron network produces the expected output.\n",
    "\n",
    "<h4>Half-adder</h4>\n",
    "\n",
    "The half-adder is not a logic gate like the ones before, it produces multiple outputs. It adds 2 1-bit binary numbers, and outputs the result as a 2-bit binary number. We need 2 binary outputs to represent the 2-bit number. By accounting for this in the boolean operation, the framework can handle the rest.\n",
    "\n",
    "The half-adder works internally with the first digit being an AND operation performed on the inputs, and the second digit being a XOR operation. We implemented these before, but the easiest way to implement it as a dense network, is by specifying the individual perceptrons again:"
   ],
   "metadata": {
    "collapsed": false
   }
  },
  {
   "cell_type": "code",
   "execution_count": 142,
   "outputs": [],
   "source": [
    "half_adder_operation = lambda a, b: (int(a and b), int(a ^ b))"
   ],
   "metadata": {
    "collapsed": false,
    "pycharm": {
     "name": "#%%\n"
    }
   }
  },
  {
   "cell_type": "code",
   "execution_count": 143,
   "outputs": [],
   "source": [
    "ha_layer_1 = ml.PerceptronLayer(np.array([\n",
    "    ml.Perceptron(np.array([1, 1]), -2),\n",
    "    ml.Perceptron(np.array([1, 1]), -1),\n",
    "    ml.Perceptron(np.array([-1, -1]), 1)\n",
    "    ])\n",
    ")\n",
    "\n",
    "ha_layer_2 = ml.PerceptronLayer(np.array([\n",
    "    ml.Perceptron(np.array([1, 0, 0]), -1),\n",
    "    ml.Perceptron(np.array([0, 1, 1]), -2)\n",
    "    ])\n",
    ")\n",
    "\n",
    "ha = ml.PerceptronNetwork(np.array([ha_layer_1, ha_layer_2]))"
   ],
   "metadata": {
    "collapsed": false,
    "pycharm": {
     "name": "#%%\n"
    }
   }
  },
  {
   "cell_type": "code",
   "execution_count": 144,
   "outputs": [
    {
     "data": {
      "text/plain": "   Input 0  Input 1 Operation Result Perceptron Result\n0        0        0           (0, 0)            (0, 0)\n1        0        1           (0, 1)            (0, 1)\n2        1        0           (0, 1)            (0, 1)\n3        1        1           (1, 0)            (1, 0)",
      "text/html": "<div>\n<style scoped>\n    .dataframe tbody tr th:only-of-type {\n        vertical-align: middle;\n    }\n\n    .dataframe tbody tr th {\n        vertical-align: top;\n    }\n\n    .dataframe thead th {\n        text-align: right;\n    }\n</style>\n<table border=\"1\" class=\"dataframe\">\n  <thead>\n    <tr style=\"text-align: right;\">\n      <th></th>\n      <th>Input 0</th>\n      <th>Input 1</th>\n      <th>Operation Result</th>\n      <th>Perceptron Result</th>\n    </tr>\n  </thead>\n  <tbody>\n    <tr>\n      <th>0</th>\n      <td>0</td>\n      <td>0</td>\n      <td>(0, 0)</td>\n      <td>(0, 0)</td>\n    </tr>\n    <tr>\n      <th>1</th>\n      <td>0</td>\n      <td>1</td>\n      <td>(0, 1)</td>\n      <td>(0, 1)</td>\n    </tr>\n    <tr>\n      <th>2</th>\n      <td>1</td>\n      <td>0</td>\n      <td>(0, 1)</td>\n      <td>(0, 1)</td>\n    </tr>\n    <tr>\n      <th>3</th>\n      <td>1</td>\n      <td>1</td>\n      <td>(1, 0)</td>\n      <td>(1, 0)</td>\n    </tr>\n  </tbody>\n</table>\n</div>"
     },
     "execution_count": 144,
     "metadata": {},
     "output_type": "execute_result"
    }
   ],
   "source": [
    "ha_table = perceptron_truth_table(half_adder_operation,\n",
    "                                  ha)\n",
    "\n",
    "ha_table"
   ],
   "metadata": {
    "collapsed": false,
    "pycharm": {
     "name": "#%%\n"
    }
   }
  },
  {
   "cell_type": "code",
   "execution_count": 145,
   "outputs": [
    {
     "data": {
      "text/plain": "True"
     },
     "execution_count": 145,
     "metadata": {},
     "output_type": "execute_result"
    }
   ],
   "source": [
    "(ha_table[\"Operation Result\"] == ha_table[\"Perceptron Result\"]).all()"
   ],
   "metadata": {
    "collapsed": false,
    "pycharm": {
     "name": "#%%\n"
    }
   }
  },
  {
   "cell_type": "markdown",
   "source": [
    "The perceptron network produces the expected output."
   ],
   "metadata": {
    "collapsed": false
   }
  }
 ],
 "metadata": {
  "kernelspec": {
   "display_name": "Python 3",
   "language": "python",
   "name": "python3"
  },
  "language_info": {
   "codemirror_mode": {
    "name": "ipython",
    "version": 2
   },
   "file_extension": ".py",
   "mimetype": "text/x-python",
   "name": "python",
   "nbconvert_exporter": "python",
   "pygments_lexer": "ipython2",
   "version": "2.7.6"
  }
 },
 "nbformat": 4,
 "nbformat_minor": 0
}