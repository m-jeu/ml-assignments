{
 "cells": [
  {
   "cell_type": "code",
   "execution_count": 5,
   "metadata": {
    "collapsed": true
   },
   "outputs": [],
   "source": [
    "from typing import List, Tuple\n",
    "import itertools\n",
    "\n",
    "import ml"
   ]
  },
  {
   "cell_type": "code",
   "execution_count": 6,
   "outputs": [],
   "source": [
    "def binary_input_space(length: int) -> List[Tuple[int]]:\n",
    "    \"\"\"Compute all possible binary input combinations with a certain length.\n",
    "\n",
    "    Args:\n",
    "        length: length of the combinations.\n",
    "\n",
    "    Returns:\n",
    "        All possible binary input combinations of a certain length.\"\"\"\n",
    "    return list(itertools.product([0, 1], repeat=length))"
   ],
   "metadata": {
    "collapsed": false,
    "pycharm": {
     "name": "#%%\n"
    }
   }
  },
  {
   "cell_type": "code",
   "execution_count": 7,
   "outputs": [
    {
     "name": "stdout",
     "output_type": "stream",
     "text": [
      "0.6224593312018546\n",
      "0.3775406687981454\n"
     ]
    }
   ],
   "source": [
    "invert_weights = [-1]\n",
    "invert_bias = 0.5\n",
    "\n",
    "invert_gate = ml.SigmoidNeuron(invert_weights, invert_bias)\n",
    "\n",
    "for comb in binary_input_space(1):\n",
    "    print(invert_gate.feed_forward(comb))"
   ],
   "metadata": {
    "collapsed": false,
    "pycharm": {
     "name": "#%%\n"
    }
   }
  },
  {
   "cell_type": "code",
   "execution_count": null,
   "outputs": [],
   "source": [],
   "metadata": {
    "collapsed": false,
    "pycharm": {
     "name": "#%%\n"
    }
   }
  }
 ],
 "metadata": {
  "kernelspec": {
   "display_name": "Python 3",
   "language": "python",
   "name": "python3"
  },
  "language_info": {
   "codemirror_mode": {
    "name": "ipython",
    "version": 2
   },
   "file_extension": ".py",
   "mimetype": "text/x-python",
   "name": "python",
   "nbconvert_exporter": "python",
   "pygments_lexer": "ipython2",
   "version": "2.7.6"
  }
 },
 "nbformat": 4,
 "nbformat_minor": 0
}